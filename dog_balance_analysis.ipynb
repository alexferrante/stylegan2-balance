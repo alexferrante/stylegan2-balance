{
  "nbformat": 4,
  "nbformat_minor": 0,
  "metadata": {
    "colab": {
      "name": "dog_balance_analysis.ipynb",
      "provenance": [],
      "collapsed_sections": [],
      "authorship_tag": "ABX9TyPzF71AcHI7HDKUh1RnSRBv"
    },
    "kernelspec": {
      "name": "python3",
      "display_name": "Python 3"
    },
    "language_info": {
      "name": "python"
    },
    "accelerator": "GPU"
  },
  "cells": [
    {
      "cell_type": "code",
      "metadata": {
        "colab": {
          "base_uri": "https://localhost:8080/"
        },
        "id": "39RBDUIOL_YK",
        "outputId": "d2e7d382-a9f4-4bd5-e346-7323a71131cc"
      },
      "source": [
        "!gdown --id 1SOb8wed7X8i0W_VaQsRqd1VZ11rnNU2_ # balanced\n",
        "# !gdown --id 1TkHMa5rNULTDM_cKoE0oONiSxp1RpaDv # imbalanced"
      ],
      "execution_count": null,
      "outputs": [
        {
          "output_type": "stream",
          "text": [
            "Downloading...\n",
            "From: https://drive.google.com/uc?id=1SOb8wed7X8i0W_VaQsRqd1VZ11rnNU2_\n",
            "To: /content/balanced_network-snapshot-025000.pkl\n",
            "272MB [00:01, 145MB/s]\n"
          ],
          "name": "stdout"
        }
      ]
    },
    {
      "cell_type": "code",
      "metadata": {
        "colab": {
          "base_uri": "https://localhost:8080/"
        },
        "id": "r3BeRF9xT87H",
        "outputId": "21840ebe-299a-4304-bbd4-130ec7dc3cd4"
      },
      "source": [
        "!pip install ninja opensimplex"
      ],
      "execution_count": null,
      "outputs": [
        {
          "output_type": "stream",
          "text": [
            "Collecting ninja\n",
            "\u001b[?25l  Downloading https://files.pythonhosted.org/packages/1d/de/393468f2a37fc2c1dc3a06afc37775e27fde2d16845424141d4da62c686d/ninja-1.10.0.post2-py3-none-manylinux1_x86_64.whl (107kB)\n",
            "\r\u001b[K     |███                             | 10kB 23.4MB/s eta 0:00:01\r\u001b[K     |██████                          | 20kB 15.3MB/s eta 0:00:01\r\u001b[K     |█████████▏                      | 30kB 13.5MB/s eta 0:00:01\r\u001b[K     |████████████▏                   | 40kB 12.6MB/s eta 0:00:01\r\u001b[K     |███████████████▎                | 51kB 7.7MB/s eta 0:00:01\r\u001b[K     |██████████████████▎             | 61kB 7.3MB/s eta 0:00:01\r\u001b[K     |█████████████████████▍          | 71kB 8.2MB/s eta 0:00:01\r\u001b[K     |████████████████████████▍       | 81kB 9.2MB/s eta 0:00:01\r\u001b[K     |███████████████████████████▍    | 92kB 8.9MB/s eta 0:00:01\r\u001b[K     |██████████████████████████████▌ | 102kB 7.5MB/s eta 0:00:01\r\u001b[K     |████████████████████████████████| 112kB 7.5MB/s \n",
            "\u001b[?25hCollecting opensimplex\n",
            "  Downloading https://files.pythonhosted.org/packages/9c/ad/9b758f9ff9dcd23fc574bb3aa1de844adb1179c9be9711e9f798614d4b2f/opensimplex-0.3-py3-none-any.whl\n",
            "Installing collected packages: ninja, opensimplex\n",
            "Successfully installed ninja-1.10.0.post2 opensimplex-0.3\n"
          ],
          "name": "stdout"
        }
      ]
    },
    {
      "cell_type": "markdown",
      "metadata": {
        "id": "NEBDV-EyH8QK"
      },
      "source": [
        "# Closed Form Factorization method for StyleGAN2-ADA-Pytorch"
      ]
    },
    {
      "cell_type": "code",
      "metadata": {
        "id": "fb0EhIihN9cg"
      },
      "source": [
        "!git clone https://github.com/dvschultz/stylegan2-ada-pytorch\n",
        "\n",
        "!python stylegan2-ada-pytorch/closed_form_factorization.py --out=/content/factor-test.pt --ckpt /content/balanced_network-snapshot-025000.pkl\n",
        "\n",
        "# !python /content/stylegan2-pytorch/convert_weight.py --repo /content/stylegan2-ada-pytorch /content/balanced_network-snapshot-025000.pkl --gen --disc\n",
        "!python stylegan2-ada-pytorch/apply_factor.py -i 0 -d 10 --seeds 5 --ckpt /content/balanced_network-snapshot-025000.pkl /content/factor-test.pt --output /content/test-vid/ --video"
      ],
      "execution_count": null,
      "outputs": []
    },
    {
      "cell_type": "code",
      "metadata": {
        "colab": {
          "base_uri": "https://localhost:8080/"
        },
        "id": "lR-7N9yIU6we",
        "outputId": "ae852c5b-8bf9-4946-bb16-82b213a63ab0"
      },
      "source": [
        "import torch\n",
        "\n",
        "factors = torch.load('/content/factor-test.pt')\n",
        "eigenvecs = factors['eigvec'].numpy()"
      ],
      "execution_count": null,
      "outputs": [
        {
          "output_type": "stream",
          "text": [
            "{'ckpt': '/content/balanced_network-snapshot-025000.pkl', 'eigvec': tensor([[-0.0218, -0.0716, -0.0196,  ...,  0.0363, -0.0055, -0.0016],\n",
            "        [ 0.0239,  0.0685,  0.0584,  ..., -0.0013, -0.0339,  0.0226],\n",
            "        [ 0.0221,  0.0047,  0.0290,  ...,  0.0233,  0.0459, -0.0008],\n",
            "        ...,\n",
            "        [ 0.0035, -0.0228, -0.0433,  ...,  0.0353,  0.0798,  0.0275],\n",
            "        [ 0.0630, -0.0126,  0.0313,  ...,  0.0154, -0.0542,  0.1031],\n",
            "        [ 0.0525,  0.0099, -0.0275,  ...,  0.0002,  0.0602,  0.0527]])}\n"
          ],
          "name": "stdout"
        }
      ]
    },
    {
      "cell_type": "markdown",
      "metadata": {
        "id": "3H7PLH_3HShC"
      },
      "source": [
        "# StyleGAN2-ADA-Pytorch -> StyleGAN2-Pytorch (*GANSpace input*)"
      ]
    },
    {
      "cell_type": "code",
      "metadata": {
        "colab": {
          "base_uri": "https://localhost:8080/"
        },
        "id": "UnnPYp2_Vpgd",
        "outputId": "d6ee787b-4857-4a53-a349-38ea2e3894c8"
      },
      "source": [
        "# %cd /content\n",
        "# !git clone https://github.com/alexferrante/stylegan2-ada-pytorch\n",
        "# !git clone https://github.com/alexferrante/stylegan2-pytorch\n",
        "%cd /content/stylegan2-ada-pytorch/\n",
        "\n",
        "path_to_stylegan2_ada_pytorch_ckpt = '/content/balanced_network-snapshot-025000.pkl'\n",
        "path_to_converted_pytorch_model = '/content/balanced_rosinality_model.pt'\n",
        "\n",
        "# !python export_weights.py $path_to_stylegan2_ada_pytorch_ckpt $path_to_converted_pytorch_model\n",
        "\n",
        "import torch\n",
        "import pickle\n",
        "import dnnlib \n",
        "\n",
        "device = torch.device('cuda')\n",
        "with dnnlib.util.open_url(path_to_stylegan2_ada_pytorch_ckpt) as f:\n",
        "  G = pickle.load(f)\n",
        "  print(G)\n",
        "\n",
        "converted_model = torch.load(path_to_converted_pytorch_model)\n",
        "print(converted_model['g_ema'].keys())"
      ],
      "execution_count": 44,
      "outputs": [
        {
          "output_type": "stream",
          "text": [
            "/content/stylegan2-ada-pytorch\n",
            "{'training_set_kwargs': {'class_name': 'training.dataset.ImageFolderDataset', 'path': './datasets/imbalanced_dataset_training', 'use_labels': False, 'max_size': 16214, 'xflip': True, 'resolution': 64}, 'G': Generator(\n",
            "  (synthesis): SynthesisNetwork(\n",
            "    (b4): SynthesisBlock(\n",
            "      (conv1): SynthesisLayer(\n",
            "        (affine): FullyConnectedLayer()\n",
            "      )\n",
            "      (torgb): ToRGBLayer(\n",
            "        (affine): FullyConnectedLayer()\n",
            "      )\n",
            "    )\n",
            "    (b8): SynthesisBlock(\n",
            "      (conv0): SynthesisLayer(\n",
            "        (affine): FullyConnectedLayer()\n",
            "      )\n",
            "      (conv1): SynthesisLayer(\n",
            "        (affine): FullyConnectedLayer()\n",
            "      )\n",
            "      (torgb): ToRGBLayer(\n",
            "        (affine): FullyConnectedLayer()\n",
            "      )\n",
            "    )\n",
            "    (b16): SynthesisBlock(\n",
            "      (conv0): SynthesisLayer(\n",
            "        (affine): FullyConnectedLayer()\n",
            "      )\n",
            "      (conv1): SynthesisLayer(\n",
            "        (affine): FullyConnectedLayer()\n",
            "      )\n",
            "      (torgb): ToRGBLayer(\n",
            "        (affine): FullyConnectedLayer()\n",
            "      )\n",
            "    )\n",
            "    (b32): SynthesisBlock(\n",
            "      (conv0): SynthesisLayer(\n",
            "        (affine): FullyConnectedLayer()\n",
            "      )\n",
            "      (conv1): SynthesisLayer(\n",
            "        (affine): FullyConnectedLayer()\n",
            "      )\n",
            "      (torgb): ToRGBLayer(\n",
            "        (affine): FullyConnectedLayer()\n",
            "      )\n",
            "    )\n",
            "    (b64): SynthesisBlock(\n",
            "      (conv0): SynthesisLayer(\n",
            "        (affine): FullyConnectedLayer()\n",
            "      )\n",
            "      (conv1): SynthesisLayer(\n",
            "        (affine): FullyConnectedLayer()\n",
            "      )\n",
            "      (torgb): ToRGBLayer(\n",
            "        (affine): FullyConnectedLayer()\n",
            "      )\n",
            "    )\n",
            "  )\n",
            "  (mapping): MappingNetwork(\n",
            "    (fc0): FullyConnectedLayer()\n",
            "    (fc1): FullyConnectedLayer()\n",
            "  )\n",
            "), 'D': Discriminator(\n",
            "  (b64): DiscriminatorBlock(\n",
            "    (fromrgb): Conv2dLayer()\n",
            "    (conv0): Conv2dLayer()\n",
            "    (conv1): Conv2dLayer()\n",
            "    (skip): Conv2dLayer()\n",
            "  )\n",
            "  (b32): DiscriminatorBlock(\n",
            "    (conv0): Conv2dLayer()\n",
            "    (conv1): Conv2dLayer()\n",
            "    (skip): Conv2dLayer()\n",
            "  )\n",
            "  (b16): DiscriminatorBlock(\n",
            "    (conv0): Conv2dLayer()\n",
            "    (conv1): Conv2dLayer()\n",
            "    (skip): Conv2dLayer()\n",
            "  )\n",
            "  (b8): DiscriminatorBlock(\n",
            "    (conv0): Conv2dLayer()\n",
            "    (conv1): Conv2dLayer()\n",
            "    (skip): Conv2dLayer()\n",
            "  )\n",
            "  (b4): DiscriminatorEpilogue(\n",
            "    (mbstd): MinibatchStdLayer()\n",
            "    (conv): Conv2dLayer()\n",
            "    (fc): FullyConnectedLayer()\n",
            "    (out): FullyConnectedLayer()\n",
            "  )\n",
            "), 'G_ema': Generator(\n",
            "  (synthesis): SynthesisNetwork(\n",
            "    (b4): SynthesisBlock(\n",
            "      (conv1): SynthesisLayer(\n",
            "        (affine): FullyConnectedLayer()\n",
            "      )\n",
            "      (torgb): ToRGBLayer(\n",
            "        (affine): FullyConnectedLayer()\n",
            "      )\n",
            "    )\n",
            "    (b8): SynthesisBlock(\n",
            "      (conv0): SynthesisLayer(\n",
            "        (affine): FullyConnectedLayer()\n",
            "      )\n",
            "      (conv1): SynthesisLayer(\n",
            "        (affine): FullyConnectedLayer()\n",
            "      )\n",
            "      (torgb): ToRGBLayer(\n",
            "        (affine): FullyConnectedLayer()\n",
            "      )\n",
            "    )\n",
            "    (b16): SynthesisBlock(\n",
            "      (conv0): SynthesisLayer(\n",
            "        (affine): FullyConnectedLayer()\n",
            "      )\n",
            "      (conv1): SynthesisLayer(\n",
            "        (affine): FullyConnectedLayer()\n",
            "      )\n",
            "      (torgb): ToRGBLayer(\n",
            "        (affine): FullyConnectedLayer()\n",
            "      )\n",
            "    )\n",
            "    (b32): SynthesisBlock(\n",
            "      (conv0): SynthesisLayer(\n",
            "        (affine): FullyConnectedLayer()\n",
            "      )\n",
            "      (conv1): SynthesisLayer(\n",
            "        (affine): FullyConnectedLayer()\n",
            "      )\n",
            "      (torgb): ToRGBLayer(\n",
            "        (affine): FullyConnectedLayer()\n",
            "      )\n",
            "    )\n",
            "    (b64): SynthesisBlock(\n",
            "      (conv0): SynthesisLayer(\n",
            "        (affine): FullyConnectedLayer()\n",
            "      )\n",
            "      (conv1): SynthesisLayer(\n",
            "        (affine): FullyConnectedLayer()\n",
            "      )\n",
            "      (torgb): ToRGBLayer(\n",
            "        (affine): FullyConnectedLayer()\n",
            "      )\n",
            "    )\n",
            "  )\n",
            "  (mapping): MappingNetwork(\n",
            "    (fc0): FullyConnectedLayer()\n",
            "    (fc1): FullyConnectedLayer()\n",
            "  )\n",
            "), 'augment_pipe': AugmentPipe()}\n",
            "dict_keys(['style.1.weight', 'style.1.bias', 'style.2.weight', 'style.2.bias', 'input.input', 'conv1.conv.weight', 'conv1.activate.bias', 'conv1.conv.modulation.weight', 'conv1.conv.modulation.bias', 'conv1.noise.weight', 'noises.noise_0', 'to_rgb1.conv.weight', 'to_rgb1.bias', 'to_rgb1.conv.modulation.weight', 'to_rgb1.conv.modulation.bias', 'convs.0.conv.weight', 'convs.0.activate.bias', 'convs.0.conv.modulation.weight', 'convs.0.conv.modulation.bias', 'convs.0.noise.weight', 'noises.noise_1', 'convs.1.conv.weight', 'convs.1.activate.bias', 'convs.1.conv.modulation.weight', 'convs.1.conv.modulation.bias', 'convs.1.noise.weight', 'noises.noise_2', 'to_rgbs.0.conv.weight', 'to_rgbs.0.bias', 'to_rgbs.0.conv.modulation.weight', 'to_rgbs.0.conv.modulation.bias', 'convs.0.conv.blur.kernel', 'to_rgbs.0.upsample.kernel', 'convs.2.conv.weight', 'convs.2.activate.bias', 'convs.2.conv.modulation.weight', 'convs.2.conv.modulation.bias', 'convs.2.noise.weight', 'noises.noise_3', 'convs.3.conv.weight', 'convs.3.activate.bias', 'convs.3.conv.modulation.weight', 'convs.3.conv.modulation.bias', 'convs.3.noise.weight', 'noises.noise_4', 'to_rgbs.1.conv.weight', 'to_rgbs.1.bias', 'to_rgbs.1.conv.modulation.weight', 'to_rgbs.1.conv.modulation.bias', 'convs.2.conv.blur.kernel', 'to_rgbs.1.upsample.kernel', 'convs.4.conv.weight', 'convs.4.activate.bias', 'convs.4.conv.modulation.weight', 'convs.4.conv.modulation.bias', 'convs.4.noise.weight', 'noises.noise_5', 'convs.5.conv.weight', 'convs.5.activate.bias', 'convs.5.conv.modulation.weight', 'convs.5.conv.modulation.bias', 'convs.5.noise.weight', 'noises.noise_6', 'to_rgbs.2.conv.weight', 'to_rgbs.2.bias', 'to_rgbs.2.conv.modulation.weight', 'to_rgbs.2.conv.modulation.bias', 'convs.4.conv.blur.kernel', 'to_rgbs.2.upsample.kernel', 'convs.6.conv.weight', 'convs.6.activate.bias', 'convs.6.conv.modulation.weight', 'convs.6.conv.modulation.bias', 'convs.6.noise.weight', 'noises.noise_7', 'convs.7.conv.weight', 'convs.7.activate.bias', 'convs.7.conv.modulation.weight', 'convs.7.conv.modulation.bias', 'convs.7.noise.weight', 'noises.noise_8', 'to_rgbs.3.conv.weight', 'to_rgbs.3.bias', 'to_rgbs.3.conv.modulation.weight', 'to_rgbs.3.conv.modulation.bias', 'convs.6.conv.blur.kernel', 'to_rgbs.3.upsample.kernel'])\n"
          ],
          "name": "stdout"
        }
      ]
    },
    {
      "cell_type": "code",
      "metadata": {
        "colab": {
          "base_uri": "https://localhost:8080/"
        },
        "id": "6gUFlWL1WMYe",
        "outputId": "c965d694-f088-42e0-8656-e668ad96269b"
      },
      "source": [
        "%cd /content/stylegan2-pytorch\n",
        "!python generate.py --size 64 --channel_multiplier 1 --ckpt /content/balanced_rosinality_model.pt --truncation 0.5"
      ],
      "execution_count": null,
      "outputs": [
        {
          "output_type": "stream",
          "text": [
            "/content\n",
            "Cloning into 'stylegan2-pytorch'...\n",
            "remote: Enumerating objects: 378, done.\u001b[K\n",
            "remote: Counting objects: 100% (6/6), done.\u001b[K\n",
            "remote: Compressing objects: 100% (4/4), done.\u001b[K\n",
            "remote: Total 378 (delta 2), reused 5 (delta 2), pack-reused 372\u001b[K\n",
            "Receiving objects: 100% (378/378), 122.51 MiB | 21.90 MiB/s, done.\n",
            "Resolving deltas: 100% (189/189), done.\n",
            "/content/stylegan2-pytorch\n",
            "  0% 0/20 [00:00<?, ?it/s]/usr/local/lib/python3.7/dist-packages/torchvision/utils.py:50: UserWarning: range will be deprecated, please use value_range instead.\n",
            "  warnings.warn(warning)\n",
            "100% 20/20 [00:00<00:00, 64.03it/s]\n"
          ],
          "name": "stdout"
        }
      ]
    },
    {
      "cell_type": "markdown",
      "metadata": {
        "id": "vm5vsYn-IXHl"
      },
      "source": [
        "# Setup for GANSpace"
      ]
    },
    {
      "cell_type": "code",
      "metadata": {
        "id": "42kyEYSYTszg"
      },
      "source": [
        "%cd /content\n",
        "!git clone https://github.com/alexferrante/ganspace\n",
        "%cd ganspace\n",
        "!pip install fbpca pyopengltk glumpy\n",
        "!git submodule update --init --recursive\n",
        "!python -c \"import nltk; nltk.download('wordnet')\"\n",
        "!wget https://files.pythonhosted.org/packages/5e/3f/5658c38579b41866ba21ee1b5020b8225cec86fe717e4b1c5c972de0a33c/pycuda-2019.1.2.tar.gz\n",
        "!tar -xzf pycuda-2019.1.2.tar.gz\n",
        "%cd /content/ganspace/pycuda-2019.1.2\n",
        "!python configure.py --cuda-enable-gl --cuda-root=/usr/local/cuda\n",
        "!make install\n",
        "%cd \"/content/ganspace\"\n",
        "%cd models/stylegan2/stylegan2-pytorch/op\n",
        "!python -c \"import torch; import upfirdn2d_op; import fused; print('OK')\"\n",
        "!python setup.py install"
      ],
      "execution_count": null,
      "outputs": []
    },
    {
      "cell_type": "code",
      "metadata": {
        "colab": {
          "base_uri": "https://localhost:8080/"
        },
        "id": "J1rL6eWELS4r",
        "outputId": "fcaef081-cfeb-404e-d7c6-9dedde6efd88"
      },
      "source": [
        "!pip install boto3 urllib3"
      ],
      "execution_count": 14,
      "outputs": [
        {
          "output_type": "stream",
          "text": [
            "Requirement already satisfied: boto3 in /usr/local/lib/python3.7/dist-packages (1.17.59)\n",
            "Requirement already satisfied: urllib3 in /usr/local/lib/python3.7/dist-packages (1.26.4)\n",
            "Requirement already satisfied: botocore<1.21.0,>=1.20.59 in /usr/local/lib/python3.7/dist-packages (from boto3) (1.20.59)\n",
            "Requirement already satisfied: jmespath<1.0.0,>=0.7.1 in /usr/local/lib/python3.7/dist-packages (from boto3) (0.10.0)\n",
            "Requirement already satisfied: s3transfer<0.5.0,>=0.4.0 in /usr/local/lib/python3.7/dist-packages (from boto3) (0.4.2)\n",
            "Requirement already satisfied: python-dateutil<3.0.0,>=2.1 in /usr/local/lib/python3.7/dist-packages (from botocore<1.21.0,>=1.20.59->boto3) (2.8.1)\n",
            "Requirement already satisfied: six>=1.5 in /usr/local/lib/python3.7/dist-packages (from python-dateutil<3.0.0,>=2.1->botocore<1.21.0,>=1.20.59->boto3) (1.15.0)\n"
          ],
          "name": "stdout"
        }
      ]
    },
    {
      "cell_type": "code",
      "metadata": {
        "colab": {
          "base_uri": "https://localhost:8080/"
        },
        "id": "fk96mtbJKfZ1",
        "outputId": "a5d3e4c1-8bf5-4de9-ce42-4c2dcc91c6a2"
      },
      "source": [
        "# %cd /content\n",
        "# !git clone https://github.com/alexferrante/ganspace\n",
        "# %cd /content/ganspace/models/stylegan2\n",
        "# !git clone https://github.com/alexferrante/stylegan2-pytorch\n",
        "# %cd /content/ganspace\n",
        "\n",
        "model = 'StyleGAN2'\n",
        "model_class = 'dogs-bal'\n",
        "num_components = 20\n",
        "\n",
        "!python visualize.py --model $model --class $model_class --layer style --use_w\n",
        "# !python interactive.py --model 'StyleGAN2' --class $model_class --layer=style -c $num_components --use_w\n",
        "# !python interactive.py --model=StyleGAN2 --class=car --layer=style -n=1000000 -b=10000\n"
      ],
      "execution_count": 65,
      "outputs": [
        {
          "output_type": "stream",
          "text": [
            "/usr/local/lib/python3.7/dist-packages/requests/__init__.py:91: RequestsDependencyWarning: urllib3 (1.26.4) or chardet (3.0.4) doesn't match a supported version!\n",
            "  RequestsDependencyWarning)\n",
            "[28.04 18:33] StyleGAN2, style, ipca\n",
            "Feature shape: torch.Size([1, 512])\n",
            "Not cached\n",
            "[28.04 18:33] Computing stylegan2-dogs-bal_style_ipca_c80_n300000_w.npz\n",
            "Reusing InstrumentedModel instance\n",
            "Using W latent space\n",
            "Feature shape: torch.Size([1, 512])\n",
            "/usr/local/lib/python3.7/dist-packages/torch/cuda/memory.py:289: FutureWarning: torch.cuda.reset_max_memory_cached now calls torch.cuda.reset_peak_memory_stats, which resets /all/ peak memory stats.\n",
            "  FutureWarning)\n",
            "/usr/local/lib/python3.7/dist-packages/torch/cuda/memory.py:263: FutureWarning: torch.cuda.reset_max_memory_allocated now calls torch.cuda.reset_peak_memory_stats, which resets /all/ peak memory stats.\n",
            "  FutureWarning)\n",
            "B=20, N=300000, dims=512, N/dims=585.9\n",
            "Sampling latents: 100% 15100/15100 [00:18<00:00, 827.06it/s]\n",
            "Fitting batches (NB=2000): 100% 150/150 [00:47<00:00,  3.16it/s]\n",
            "Total time: 0:01:06.324046\n",
            "/usr/local/lib/python3.7/dist-packages/torch/cuda/memory.py:289: FutureWarning: torch.cuda.reset_max_memory_cached now calls torch.cuda.reset_peak_memory_stats, which resets /all/ peak memory stats.\n",
            "  FutureWarning)\n",
            "/usr/local/lib/python3.7/dist-packages/torch/cuda/memory.py:263: FutureWarning: torch.cuda.reset_max_memory_allocated now calls torch.cuda.reset_peak_memory_stats, which resets /all/ peak memory stats.\n",
            "  FutureWarning)\n",
            "Batch size: 20\n",
            "[28.04 18:35] Creating visualizations\n",
            "Sparsity: 0.00\n",
            "<Figure size 1400x1200 with 14 Axes>\n",
            "<Figure size 1400x1200 with 14 Axes>\n",
            "Random images:   0% 0/10 [00:00<?, ?it/s]<Figure size 1400x1200 with 14 Axes>\n",
            "Random images:  10% 1/10 [00:02<00:20,  2.28s/it]<Figure size 1400x1200 with 14 Axes>\n",
            "Random images:  20% 2/10 [00:04<00:18,  2.28s/it]<Figure size 1400x1200 with 14 Axes>\n",
            "Random images:  30% 3/10 [00:06<00:15,  2.26s/it]<Figure size 1400x1200 with 14 Axes>\n",
            "Random images:  40% 4/10 [00:09<00:13,  2.28s/it]<Figure size 1400x1200 with 14 Axes>\n",
            "Random images:  50% 5/10 [00:11<00:11,  2.27s/it]<Figure size 1400x1200 with 14 Axes>\n",
            "Random images:  60% 6/10 [00:13<00:09,  2.29s/it]<Figure size 1400x1200 with 14 Axes>\n",
            "Random images:  70% 7/10 [00:15<00:06,  2.28s/it]<Figure size 1400x1200 with 14 Axes>\n",
            "Random images:  80% 8/10 [00:18<00:04,  2.25s/it]<Figure size 1400x1200 with 14 Axes>\n",
            "Random images:  90% 9/10 [00:20<00:02,  2.26s/it]<Figure size 1400x1200 with 14 Axes>\n",
            "Random images: 100% 10/10 [00:22<00:00,  2.26s/it]\n",
            "Done in 0:01:59.077928\n"
          ],
          "name": "stdout"
        }
      ]
    },
    {
      "cell_type": "code",
      "metadata": {
        "colab": {
          "base_uri": "https://localhost:8080/"
        },
        "id": "bswtYfVSqSgg",
        "outputId": "a9ca6edb-7512-4166-de7a-6fda5aa224c2"
      },
      "source": [
        "%cd /content/ganspace/models/stylegan2\n",
        "!git clone https://github.com/harskish/stylegan2-pytorch"
      ],
      "execution_count": 61,
      "outputs": [
        {
          "output_type": "stream",
          "text": [
            "/content/ganspace/models/stylegan2\n",
            "Cloning into 'stylegan2-pytorch'...\n",
            "remote: Enumerating objects: 316, done.\u001b[K\n",
            "remote: Total 316 (delta 0), reused 0 (delta 0), pack-reused 316\u001b[K\n",
            "Receiving objects: 100% (316/316), 114.15 MiB | 38.10 MiB/s, done.\n",
            "Resolving deltas: 100% (158/158), done.\n"
          ],
          "name": "stdout"
        }
      ]
    },
    {
      "cell_type": "markdown",
      "metadata": {
        "id": "IRXSip3LM4OT"
      },
      "source": [
        ""
      ]
    },
    {
      "cell_type": "code",
      "metadata": {
        "colab": {
          "base_uri": "https://localhost:8080/"
        },
        "id": "bEm1FlqbM4wF",
        "outputId": "48cdceca-907a-4b99-e608-12158ea2f42e"
      },
      "source": [
        "%cd /content/ganspace/models/stylegan2\n",
        "!git clone https://github.com/alexferrante/stylegan2-pytorch"
      ],
      "execution_count": 16,
      "outputs": [
        {
          "output_type": "stream",
          "text": [
            "/content/ganspace/models/stylegan2\n",
            "Cloning into 'stylegan2-pytorch'...\n",
            "remote: Enumerating objects: 378, done.\u001b[K\n",
            "remote: Counting objects: 100% (6/6), done.\u001b[K\n",
            "remote: Compressing objects: 100% (4/4), done.\u001b[K\n",
            "remote: Total 378 (delta 2), reused 5 (delta 2), pack-reused 372\u001b[K\n",
            "Receiving objects: 100% (378/378), 122.51 MiB | 33.08 MiB/s, done.\n",
            "Resolving deltas: 100% (189/189), done.\n"
          ],
          "name": "stdout"
        }
      ]
    },
    {
      "cell_type": "code",
      "metadata": {
        "id": "dciyf3W6lw_T"
      },
      "source": [
        ""
      ],
      "execution_count": null,
      "outputs": []
    }
  ]
}